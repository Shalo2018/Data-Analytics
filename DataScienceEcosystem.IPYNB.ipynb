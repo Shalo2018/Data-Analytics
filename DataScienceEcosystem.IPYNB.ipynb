{
 "cells": [
  {
   "cell_type": "markdown",
   "id": "c2e1c168",
   "metadata": {},
   "source": [
    "# Data Science Tools and Ecosystem"
   ]
  },
  {
   "cell_type": "markdown",
   "id": "9cd5816a",
   "metadata": {},
   "source": [
    "In this notebook, Data Science Tools and Ecosystem are summarized."
   ]
  },
  {
   "cell_type": "markdown",
   "id": "e0bc3f2f",
   "metadata": {},
   "source": [
    "Some of the popular languages that Data Scientists use are:\n",
    "1. Python.\n",
    "2. R.\n",
    "3. SQL.\n",
    "4. Java.\n",
    "5. Julia."
   ]
  },
  {
   "cell_type": "markdown",
   "id": "d6e278cf",
   "metadata": {},
   "source": [
    "Some of the commonly used libraries used by Data Scientists include: \n",
    "    \n",
    "1. TensorFlow.\n",
    "2. NumPy.\n",
    "3. SciPy.\n",
    "4. Pandas.\n",
    "5. Matplotlib.\n",
    "6. Keras.\n",
    "7. SciKit-Learn.\n",
    "8. PyTorch.\n",
    "9. Scrapy.\n",
    "10. BeautifulSoup."
   ]
  },
  {
   "cell_type": "markdown",
   "id": "68f336a0",
   "metadata": {},
   "source": [
    "| Data Science Tools |\n",
    "----------------------\n",
    "| R Studio’s |\n",
    "| Jupyter Notebooks |\n",
    "| Hadoop |\n"
   ]
  },
  {
   "cell_type": "markdown",
   "id": "07f1354a",
   "metadata": {},
   "source": [
    "### Below are a few examples of evaluating arithmetic expressions in Python"
   ]
  },
  {
   "cell_type": "code",
   "execution_count": 10,
   "id": "dc92e597",
   "metadata": {},
   "outputs": [
    {
     "data": {
      "text/plain": [
       "17"
      ]
     },
     "execution_count": 10,
     "metadata": {},
     "output_type": "execute_result"
    }
   ],
   "source": [
    "#This a simple arithmetic expression to mutiply then add integers\n",
    "(3*4)+5"
   ]
  },
  {
   "cell_type": "code",
   "execution_count": 11,
   "id": "b7e04dec",
   "metadata": {},
   "outputs": [
    {
     "name": "stdout",
     "output_type": "stream",
     "text": [
      "0 days, 3.3333333333333335 hours, 0 mins. \n"
     ]
    }
   ],
   "source": [
    "#This will convert 200 minutes to hours by diving by 60\n",
    "days = 0\n",
    "hours = 0\n",
    "mins = 0\n",
    "\n",
    "time = 200\n",
    "#days = time / 1440\n",
    "leftover_minutes = time % 1440\n",
    "hours = leftover_minutes / 60\n",
    "#mins = time - (days*1440) - (hours*60)\n",
    "print(str(days) + \" days, \" + str(hours) + \" hours, \" + str(mins) +  \" mins. \")\n",
    "\n",
    "# Result: 3.3333333333333335 hours"
   ]
  },
  {
   "cell_type": "markdown",
   "id": "9576bfa0",
   "metadata": {},
   "source": [
    " __Objectives__\n",
    " This notebook covered:\n",
    " * Creating a code cell evaluating arithmetic expressions in Python\n",
    " * Creating a markdown cell with a table\n",
    " * Creating a markdown cell to indicate the Author’s name\n",
    " * Sharing your notebook through GitHub"
   ]
  },
  {
   "cell_type": "markdown",
   "id": "eeb44acd",
   "metadata": {},
   "source": [
    "## Author\n",
    "Daniel Kidane"
   ]
  }
 ],
 "metadata": {
  "kernelspec": {
   "display_name": "Python 3 (ipykernel)",
   "language": "python",
   "name": "python3"
  },
  "language_info": {
   "codemirror_mode": {
    "name": "ipython",
    "version": 3
   },
   "file_extension": ".py",
   "mimetype": "text/x-python",
   "name": "python",
   "nbconvert_exporter": "python",
   "pygments_lexer": "ipython3",
   "version": "3.10.9"
  }
 },
 "nbformat": 4,
 "nbformat_minor": 5
}
