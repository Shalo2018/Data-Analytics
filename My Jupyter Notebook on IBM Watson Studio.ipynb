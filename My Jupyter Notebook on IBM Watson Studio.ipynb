{
  "metadata": {
    "language_info": {
      "codemirror_mode": {
        "name": "python",
        "version": 3
      },
      "file_extension": ".py",
      "mimetype": "text/x-python",
      "name": "python",
      "nbconvert_exporter": "python",
      "pygments_lexer": "ipython3",
      "version": "3.8"
    },
    "kernelspec": {
      "name": "python",
      "display_name": "Pyolite",
      "language": "python"
    }
  },
  "nbformat_minor": 4,
  "nbformat": 4,
  "cells": [
    {
      "cell_type": "markdown",
      "source": "# My Jupyter Notebook on IBM Watson Studio",
      "metadata": {}
    },
    {
      "cell_type": "markdown",
      "source": "__Daniel Kidane__\n\nI am a trainee in Data Science. My ambition is to work as a business analyist. ",
      "metadata": {}
    },
    {
      "cell_type": "markdown",
      "source": "_I am interested in data science because I am excited to see how dat is used to make important business descisions._",
      "metadata": {}
    },
    {
      "cell_type": "markdown",
      "source": "### The following code prints I love Data Science ###",
      "metadata": {}
    },
    {
      "cell_type": "code",
      "source": "print (\"I Love Data Science\")",
      "metadata": {
        "trusted": true
      },
      "execution_count": 3,
      "outputs": [
        {
          "name": "stdout",
          "text": "I Love Data Science\n",
          "output_type": "stream"
        }
      ]
    },
    {
      "cell_type": "markdown",
      "source": "1. Monday\n1. Tuesday\n1. Wednesday\n1. Thursday\n1. Friday\n1. Saturday\n1. Sunday\n\n- Africa\n- America\n- Asia\n\n__[Coursera.org](http://coursera.org)__",
      "metadata": {}
    },
    {
      "cell_type": "code",
      "source": "",
      "metadata": {},
      "execution_count": null,
      "outputs": []
    }
  ]
}